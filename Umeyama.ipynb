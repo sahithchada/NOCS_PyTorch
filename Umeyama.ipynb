{
  "cells": [
    {
      "cell_type": "code",
      "execution_count": 1,
      "metadata": {
        "colab": {
          "base_uri": "https://localhost:8080/"
        },
        "id": "ePqpolwXaKNo",
        "outputId": "45522305-c035-46e8-da58-a82c82e31f40"
      },
      "outputs": [
        {
          "name": "stdout",
          "output_type": "stream",
          "text": [
            "test from Umeyama's paper pass\n",
            "test for 3D space pass\n"
          ]
        },
        {
          "name": "stderr",
          "output_type": "stream",
          "text": [
            "/Users/sahithreddy/miniconda3/envs/venv3.8/lib/python3.8/site-packages/tqdm/auto.py:22: TqdmWarning: IProgress not found. Please update jupyter and ipywidgets. See https://ipywidgets.readthedocs.io/en/stable/user_install.html\n",
            "  from .autonotebook import tqdm as notebook_tqdm\n"
          ]
        }
      ],
      "source": [
        "import torch\n",
        "\n",
        "def similarity_transform(from_points, to_points):\n",
        "    \n",
        "   \n",
        "    N, m = from_points.shape\n",
        "    \n",
        "    mean_from = (from_points.mean(dim=0)).double()\n",
        "    mean_to = (to_points.mean(dim=0)).double()\n",
        "    \n",
        "    delta_from = (from_points - mean_from).double() # N x m\n",
        "    delta_to = (to_points - mean_to).double()       # N x m\n",
        "    \n",
        "    sigma_from = (delta_from * delta_from).sum(dim=1).mean()\n",
        "    sigma_to = (delta_to * delta_to).sum(dim=1).mean()\n",
        "    \n",
        "    cov_matrix = delta_to.T @ delta_from / N\n",
        "    \n",
        "    U, d, V_t = torch.linalg.svd(cov_matrix, full_matrices = True)\n",
        "    cov_rank = torch.linalg.matrix_rank(cov_matrix)\n",
        "    S = torch.eye(m,dtype=torch.float64)\n",
        "\n",
        "    \n",
        "    if cov_rank >= m - 1 and torch.det(cov_matrix) < 0:\n",
        "        S[m-1, m-1] = -1\n",
        "    elif cov_rank < m-1:\n",
        "        raise ValueError(\"colinearility detected in covariance matrix:\\n{}\".format(cov_matrix))\n",
        "    \n",
        "    R = U @ S @ V_t\n",
        "    c = (d * S.diagonal()).sum() / sigma_from\n",
        "    t = mean_to - c*R @ mean_from\n",
        "    \n",
        "    return c*R, t\n",
        "\n",
        "if __name__ == \"__main__\":\n",
        "    ## Testing case from the original paper by Umeyama.\n",
        "    # each row represents a point\n",
        "    from_points = torch.tensor([[0, 0],\n",
        "                                [1, 0],\n",
        "                                [0, 2]], dtype=torch.float64)\n",
        "    to_points = torch.tensor([[0, 0],\n",
        "                              [-1, 0],\n",
        "                              [0, 2]], dtype=torch.float64)\n",
        "    \n",
        "    c_ans = 0.721\n",
        "    R_ans = torch.tensor([[0.832,  0.555],\n",
        "                          [-0.555, 0.832]], dtype=torch.float64)\n",
        "    t_ans = torch.tensor([-0.8, 0.4], dtype=torch.float64)\n",
        "    M_ans = c_ans*R_ans\n",
        "    \n",
        "    M, t = similarity_transform(from_points, to_points)\n",
        "  \n",
        "    assert torch.allclose(M, M_ans, atol = 1e-3) and torch.allclose(t, t_ans, atol = 1e-3), \"test from Umeyama's paper fail\"\n",
        "    print(\"test from Umeyama's paper pass\")\n",
        "    \n",
        "    # test in 3D space\n",
        "    from_points = torch.tensor([[0, 0, 1],\n",
        "                                [1, 0, 3],\n",
        "                                [2, 5, 8]], dtype=torch.float64)\n",
        "\n",
        "    M_ans = torch.tensor([[0, -1, 0],\n",
        "                          [1,  0, 0],\n",
        "                          [0,  0, 1]], dtype=torch.float64)\n",
        "    t_ans = torch.tensor([1, 1, 1], dtype=torch.float64)\n",
        "\n",
        "    to_points = M_ans.matmul(from_points.T).T + t_ans\n",
        "    \n",
        "    \n",
        "    M, t = similarity_transform(from_points, to_points)\n",
        "    assert torch.allclose(M, M_ans) and torch.allclose(t, t_ans), \"test for 3D space fail\"\n",
        "    print(\"test for 3D space pass\")"
      ]
    }
  ],
  "metadata": {
    "colab": {
      "provenance": []
    },
    "kernelspec": {
      "display_name": "Python 3",
      "name": "python3"
    },
    "language_info": {
      "codemirror_mode": {
        "name": "ipython",
        "version": 3
      },
      "file_extension": ".py",
      "mimetype": "text/x-python",
      "name": "python",
      "nbconvert_exporter": "python",
      "pygments_lexer": "ipython3",
      "version": "3.8.16"
    }
  },
  "nbformat": 4,
  "nbformat_minor": 0
}
